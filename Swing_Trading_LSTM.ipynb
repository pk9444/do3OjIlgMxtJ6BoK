{
 "cells": [
  {
   "cell_type": "code",
   "execution_count": 33,
   "id": "c74daaa1-58b4-4481-a4bf-872712bb49f8",
   "metadata": {},
   "outputs": [
    {
     "name": "stdout",
     "output_type": "stream",
     "text": [
      "installed all dependencies...\n"
     ]
    }
   ],
   "source": [
    "import numpy as np\n",
    "import pandas as pd\n",
    "import matplotlib.pyplot as plt\n",
    "import seaborn as sns\n",
    "sns.set_style(\"darkgrid\")\n",
    "import torch\n",
    "import torch.nn as nn\n",
    "from torch.utils.data import DataLoader, TensorDataset\n",
    "from sklearn.preprocessing import StandardScaler\n",
    "from sklearn.metrics import mean_squared_error, mean_absolute_error\n",
    "from data.data_fetcher import get_ohlcv\n",
    "from indicators.technicals import compute_rsi, compute_ema, compute_macd, compute_atr, compute_sma\n",
    "# ignore warnings\n",
    "import warnings\n",
    "warnings.filterwarnings('ignore')\n",
    "\n",
    "print(\"installed all dependencies...\")"
   ]
  },
  {
   "cell_type": "code",
   "execution_count": 35,
   "id": "ac6e2887-a020-4765-93fd-2b0ca5e5216e",
   "metadata": {},
   "outputs": [
    {
     "name": "stdout",
     "output_type": "stream",
     "text": [
      "Fetching BTCUSDT from Binance...\n",
      " Binance fetch failed: HTTPSConnectionPool(host='api.binance.com', port=443): Max retries exceeded with url: /api/v3/klines?symbol=BTCUSDT&interval=4h&limit=2000 (Caused by NameResolutionError(\"<urllib3.connection.HTTPSConnection object at 0x000001D39939B450>: Failed to resolve 'api.binance.com' ([Errno 11001] getaddrinfo failed)\"))\n",
      "Fetching from Yahoo Finance instead...\n"
     ]
    },
    {
     "data": {
      "text/html": [
       "<div>\n",
       "<style scoped>\n",
       "    .dataframe tbody tr th:only-of-type {\n",
       "        vertical-align: middle;\n",
       "    }\n",
       "\n",
       "    .dataframe tbody tr th {\n",
       "        vertical-align: top;\n",
       "    }\n",
       "\n",
       "    .dataframe thead th {\n",
       "        text-align: right;\n",
       "    }\n",
       "</style>\n",
       "<table border=\"1\" class=\"dataframe\">\n",
       "  <thead>\n",
       "    <tr style=\"text-align: right;\">\n",
       "      <th>Price</th>\n",
       "      <th>timestamp</th>\n",
       "      <th>open</th>\n",
       "      <th>high</th>\n",
       "      <th>low</th>\n",
       "      <th>close</th>\n",
       "      <th>volume</th>\n",
       "      <th>prev_close</th>\n",
       "      <th>tr1</th>\n",
       "      <th>tr2</th>\n",
       "      <th>tr3</th>\n",
       "      <th>true_range</th>\n",
       "      <th>ATR</th>\n",
       "      <th>RSI</th>\n",
       "      <th>SMA_50</th>\n",
       "      <th>EMA_50</th>\n",
       "      <th>EMA_fast</th>\n",
       "      <th>EMA_slow</th>\n",
       "      <th>MACD</th>\n",
       "      <th>Signal</th>\n",
       "    </tr>\n",
       "  </thead>\n",
       "  <tbody>\n",
       "    <tr>\n",
       "      <th>306</th>\n",
       "      <td>2025-09-03 04:00:00+00:00</td>\n",
       "      <td>111075.187500</td>\n",
       "      <td>111114.468750</td>\n",
       "      <td>110593.750000</td>\n",
       "      <td>111106.625000</td>\n",
       "      <td>1127833600</td>\n",
       "      <td>111066.804688</td>\n",
       "      <td>520.718750</td>\n",
       "      <td>47.664062</td>\n",
       "      <td>473.054688</td>\n",
       "      <td>520.718750</td>\n",
       "      <td>1254.565848</td>\n",
       "      <td>70.359790</td>\n",
       "      <td>110118.695625</td>\n",
       "      <td>110499.469643</td>\n",
       "      <td>110279.600785</td>\n",
       "      <td>109979.819566</td>\n",
       "      <td>299.781219</td>\n",
       "      <td>-23.443555</td>\n",
       "    </tr>\n",
       "    <tr>\n",
       "      <th>307</th>\n",
       "      <td>2025-09-03 08:00:00+00:00</td>\n",
       "      <td>111105.781250</td>\n",
       "      <td>111677.023438</td>\n",
       "      <td>110911.609375</td>\n",
       "      <td>111481.593750</td>\n",
       "      <td>1138827264</td>\n",
       "      <td>111106.625000</td>\n",
       "      <td>765.414062</td>\n",
       "      <td>570.398438</td>\n",
       "      <td>195.015625</td>\n",
       "      <td>765.414062</td>\n",
       "      <td>1240.572545</td>\n",
       "      <td>77.707089</td>\n",
       "      <td>110150.946875</td>\n",
       "      <td>110537.984313</td>\n",
       "      <td>110464.522780</td>\n",
       "      <td>110091.062099</td>\n",
       "      <td>373.460681</td>\n",
       "      <td>55.937292</td>\n",
       "    </tr>\n",
       "    <tr>\n",
       "      <th>308</th>\n",
       "      <td>2025-09-03 12:00:00+00:00</td>\n",
       "      <td>111477.343750</td>\n",
       "      <td>112500.179688</td>\n",
       "      <td>111091.890625</td>\n",
       "      <td>112241.468750</td>\n",
       "      <td>0</td>\n",
       "      <td>111481.593750</td>\n",
       "      <td>1408.289062</td>\n",
       "      <td>1018.585938</td>\n",
       "      <td>389.703125</td>\n",
       "      <td>1408.289062</td>\n",
       "      <td>1192.799107</td>\n",
       "      <td>74.280683</td>\n",
       "      <td>110189.851250</td>\n",
       "      <td>110604.787625</td>\n",
       "      <td>110737.899083</td>\n",
       "      <td>110250.351480</td>\n",
       "      <td>487.547603</td>\n",
       "      <td>142.259354</td>\n",
       "    </tr>\n",
       "    <tr>\n",
       "      <th>309</th>\n",
       "      <td>2025-09-03 16:00:00+00:00</td>\n",
       "      <td>112238.226562</td>\n",
       "      <td>112526.039062</td>\n",
       "      <td>111741.976562</td>\n",
       "      <td>112226.906250</td>\n",
       "      <td>910266368</td>\n",
       "      <td>112241.468750</td>\n",
       "      <td>784.062500</td>\n",
       "      <td>284.570312</td>\n",
       "      <td>499.492188</td>\n",
       "      <td>784.062500</td>\n",
       "      <td>1134.729911</td>\n",
       "      <td>81.866077</td>\n",
       "      <td>110237.597812</td>\n",
       "      <td>110668.400120</td>\n",
       "      <td>110966.977109</td>\n",
       "      <td>110396.762945</td>\n",
       "      <td>570.214164</td>\n",
       "      <td>227.850316</td>\n",
       "    </tr>\n",
       "    <tr>\n",
       "      <th>310</th>\n",
       "      <td>2025-09-03 20:00:00+00:00</td>\n",
       "      <td>112244.585938</td>\n",
       "      <td>112283.734375</td>\n",
       "      <td>111944.007812</td>\n",
       "      <td>111944.007812</td>\n",
       "      <td>8691380224</td>\n",
       "      <td>112226.906250</td>\n",
       "      <td>339.726562</td>\n",
       "      <td>56.828125</td>\n",
       "      <td>282.898438</td>\n",
       "      <td>339.726562</td>\n",
       "      <td>1096.173549</td>\n",
       "      <td>78.602938</td>\n",
       "      <td>110282.502969</td>\n",
       "      <td>110718.423951</td>\n",
       "      <td>111117.289525</td>\n",
       "      <td>110511.373676</td>\n",
       "      <td>605.915849</td>\n",
       "      <td>303.463423</td>\n",
       "    </tr>\n",
       "  </tbody>\n",
       "</table>\n",
       "</div>"
      ],
      "text/plain": [
       "Price                 timestamp           open           high            low  \\\n",
       "306   2025-09-03 04:00:00+00:00  111075.187500  111114.468750  110593.750000   \n",
       "307   2025-09-03 08:00:00+00:00  111105.781250  111677.023438  110911.609375   \n",
       "308   2025-09-03 12:00:00+00:00  111477.343750  112500.179688  111091.890625   \n",
       "309   2025-09-03 16:00:00+00:00  112238.226562  112526.039062  111741.976562   \n",
       "310   2025-09-03 20:00:00+00:00  112244.585938  112283.734375  111944.007812   \n",
       "\n",
       "Price          close      volume     prev_close          tr1          tr2  \\\n",
       "306    111106.625000  1127833600  111066.804688   520.718750    47.664062   \n",
       "307    111481.593750  1138827264  111106.625000   765.414062   570.398438   \n",
       "308    112241.468750           0  111481.593750  1408.289062  1018.585938   \n",
       "309    112226.906250   910266368  112241.468750   784.062500   284.570312   \n",
       "310    111944.007812  8691380224  112226.906250   339.726562    56.828125   \n",
       "\n",
       "Price         tr3   true_range          ATR        RSI         SMA_50  \\\n",
       "306    473.054688   520.718750  1254.565848  70.359790  110118.695625   \n",
       "307    195.015625   765.414062  1240.572545  77.707089  110150.946875   \n",
       "308    389.703125  1408.289062  1192.799107  74.280683  110189.851250   \n",
       "309    499.492188   784.062500  1134.729911  81.866077  110237.597812   \n",
       "310    282.898438   339.726562  1096.173549  78.602938  110282.502969   \n",
       "\n",
       "Price         EMA_50       EMA_fast       EMA_slow        MACD      Signal  \n",
       "306    110499.469643  110279.600785  109979.819566  299.781219  -23.443555  \n",
       "307    110537.984313  110464.522780  110091.062099  373.460681   55.937292  \n",
       "308    110604.787625  110737.899083  110250.351480  487.547603  142.259354  \n",
       "309    110668.400120  110966.977109  110396.762945  570.214164  227.850316  \n",
       "310    110718.423951  111117.289525  110511.373676  605.915849  303.463423  "
      ]
     },
     "execution_count": 35,
     "metadata": {},
     "output_type": "execute_result"
    }
   ],
   "source": [
    "# Get 4h BTC data\n",
    "df = get_ohlcv(\"BTCUSDT\", \"4h\", 2000)\n",
    "\n",
    "# Add indicators\n",
    "# Add features\n",
    "df = compute_atr(df, period=14)\n",
    "df = compute_rsi(df, period=14)\n",
    "df = compute_sma(df, period=50)\n",
    "df = compute_ema(df, period=50)\n",
    "df = compute_macd(df)\n",
    "\n",
    "df = df.dropna().reset_index(drop=True)\n",
    "\n",
    "df.tail()"
   ]
  },
  {
   "cell_type": "code",
   "execution_count": 36,
   "id": "86ea427b-2138-4226-bee9-ff6c913649d3",
   "metadata": {},
   "outputs": [
    {
     "data": {
      "text/plain": [
       "(311, 19)"
      ]
     },
     "execution_count": 36,
     "metadata": {},
     "output_type": "execute_result"
    }
   ],
   "source": [
    "df.shape"
   ]
  },
  {
   "cell_type": "code",
   "execution_count": 37,
   "id": "833fdb5d-2375-4c89-b957-f3c556631d60",
   "metadata": {},
   "outputs": [
    {
     "data": {
      "text/plain": [
       "Index(['timestamp', 'open', 'high', 'low', 'close', 'volume', 'prev_close',\n",
       "       'tr1', 'tr2', 'tr3', 'true_range', 'ATR', 'RSI', 'SMA_50', 'EMA_50',\n",
       "       'EMA_fast', 'EMA_slow', 'MACD', 'Signal'],\n",
       "      dtype='object', name='Price')"
      ]
     },
     "execution_count": 37,
     "metadata": {},
     "output_type": "execute_result"
    }
   ],
   "source": [
    "df.columns"
   ]
  },
  {
   "cell_type": "code",
   "execution_count": 38,
   "id": "fe49e1c0-e135-447b-ae7d-32fa56dd8667",
   "metadata": {},
   "outputs": [],
   "source": [
    "SEQ_LEN = 30\n",
    "features = [\"close\", \"RSI\", \"SMA_50\", \"EMA_50\", \"MACD\", \"Signal\", \"ATR\"]\n",
    "\n",
    "X = df[features].values\n",
    "y = df[\"close\"].values  # target is next close\n",
    "\n",
    "# Scale features and target separately\n",
    "scaler_X = StandardScaler()\n",
    "X_scaled = scaler_X.fit_transform(X)\n",
    "\n",
    "scaler_y = StandardScaler()\n",
    "y_scaled = scaler_y.fit_transform(y.reshape(-1,1)).flatten()\n",
    "\n",
    "# Make sequences\n",
    "def create_sequences(X, y, seq_len=SEQ_LEN):\n",
    "    Xs, ys = [], []\n",
    "    for i in range(len(X) - seq_len):\n",
    "        Xs.append(X[i:i+seq_len])\n",
    "        ys.append(y[i+seq_len])  # next value\n",
    "    return np.array(Xs), np.array(ys)\n",
    "\n",
    "X_seq, y_seq = create_sequences(X_scaled, y_scaled, SEQ_LEN)\n",
    "\n",
    "# Train/test split\n",
    "split = int(len(X_seq) * 0.8)\n",
    "X_train, X_test = X_seq[:split], X_seq[split:]\n",
    "y_train, y_test = y_seq[:split], y_seq[split:]\n",
    "\n",
    "# Torch tensors\n",
    "X_train_t = torch.tensor(X_train, dtype=torch.float32)\n",
    "y_train_t = torch.tensor(y_train, dtype=torch.float32).view(-1,1)\n",
    "X_test_t  = torch.tensor(X_test, dtype=torch.float32)\n",
    "y_test_t  = torch.tensor(y_test, dtype=torch.float32).view(-1,1)\n"
   ]
  },
  {
   "cell_type": "code",
   "execution_count": 39,
   "id": "fa378396-f31f-447c-ad5f-3590a2dc4670",
   "metadata": {},
   "outputs": [],
   "source": [
    "class LSTMRegressor(nn.Module):\n",
    "    def __init__(self, input_dim, hidden_dim=64, num_layers=2, dropout=0.3):\n",
    "        super().__init__()\n",
    "        self.lstm = nn.LSTM(input_dim, hidden_dim, num_layers,\n",
    "                            batch_first=True, dropout=dropout if num_layers > 1 else 0.0)\n",
    "        self.fc = nn.Linear(hidden_dim, 1)\n",
    "\n",
    "    def forward(self, x):\n",
    "        out, _ = self.lstm(x)\n",
    "        out = out[:, -1, :]   # last timestep\n",
    "        out = self.fc(out)\n",
    "        return out"
   ]
  },
  {
   "cell_type": "code",
   "execution_count": 40,
   "id": "1339fc8e-cc23-4f5e-8520-6da623cc6091",
   "metadata": {},
   "outputs": [
    {
     "name": "stdout",
     "output_type": "stream",
     "text": [
      "Epoch 5, Loss: 0.161805\n",
      "Epoch 10, Loss: 0.096102\n",
      "Epoch 15, Loss: 0.131742\n",
      "Epoch 20, Loss: 0.140057\n",
      "Epoch 25, Loss: 0.087632\n",
      "Epoch 30, Loss: 0.064574\n"
     ]
    }
   ],
   "source": [
    "model = LSTMRegressor(input_dim=X_train.shape[2])\n",
    "criterion = nn.MSELoss()\n",
    "optimizer = torch.optim.Adam(model.parameters(), lr=0.001)\n",
    "\n",
    "EPOCHS = 30\n",
    "BATCH_SIZE = 64\n",
    "train_loader = DataLoader(TensorDataset(X_train_t, y_train_t), batch_size=BATCH_SIZE, shuffle=True)\n",
    "\n",
    "for epoch in range(EPOCHS):\n",
    "    model.train()\n",
    "    for xb, yb in train_loader:\n",
    "        optimizer.zero_grad()\n",
    "        pred = model(xb)\n",
    "        loss = criterion(pred, yb)\n",
    "        loss.backward()\n",
    "        optimizer.step()\n",
    "    if (epoch+1) % 5 == 0:\n",
    "        print(f\"Epoch {epoch+1}, Loss: {loss.item():.6f}\")\n"
   ]
  },
  {
   "cell_type": "code",
   "execution_count": 41,
   "id": "7fade228-2717-4c6a-b32c-2da109565b79",
   "metadata": {},
   "outputs": [
    {
     "name": "stdout",
     "output_type": "stream",
     "text": [
      "RMSE: 3489.48\n"
     ]
    },
    {
     "data": {
      "image/png": "[encoded data removed]",
      "text/plain": [
       "<Figure size 1200x500 with 1 Axes>"
      ]
     },
     "metadata": {},
     "output_type": "display_data"
    }
   ],
   "source": [
    "model.eval()\n",
    "with torch.no_grad():\n",
    "    y_pred_scaled = model(X_test_t).numpy().flatten()\n",
    "\n",
    "# Inverse transform\n",
    "y_pred = scaler_y.inverse_transform(y_pred_scaled.reshape(-1,1)).flatten()\n",
    "y_true = scaler_y.inverse_transform(y_test_t.numpy()).flatten()\n",
    "\n",
    "rmse = np.sqrt(mean_squared_error(y_true, y_pred))\n",
    "print(f\"RMSE: {rmse:.2f}\")\n",
    "\n",
    "plt.figure(figsize=(12,5))\n",
    "plt.plot(y_true, label=\"Actual\")\n",
    "plt.plot(y_pred, label=\"Predicted\")\n",
    "plt.legend()\n",
    "plt.title(\"BTC Price Prediction (Test Set)\")\n",
    "plt.show()\n"
   ]
  },
  {
   "cell_type": "code",
   "execution_count": 42,
   "id": "758628d8-5abd-488a-a23a-4b22da92047d",
   "metadata": {},
   "outputs": [
    {
     "data": {
      "text/plain": [
       "['models/lstm_y_scaler.pkl']"
      ]
     },
     "execution_count": 42,
     "metadata": {},
     "output_type": "execute_result"
    }
   ],
   "source": [
    "torch.save(model.state_dict(), \"models/lstm_regressor.pt\")\n",
    "import joblib\n",
    "joblib.dump(scaler_X, \"models/lstm_X_scaler.pkl\")\n",
    "joblib.dump(scaler_y, \"models/lstm_y_scaler.pkl\")"
   ]
  },
  {
   "cell_type": "code",
   "execution_count": null,
   "id": "256f7245-2031-42d6-90ea-7228e68f5cd6",
   "metadata": {},
   "outputs": [],
   "source": []
  },
  {
   "cell_type": "code",
   "execution_count": null,
   "id": "7f48f18c-12cf-4552-ae7f-ac8f3171282a",
   "metadata": {},
   "outputs": [],
   "source": []
  },
  {
   "cell_type": "code",
   "execution_count": null,
   "id": "939a0fe0-c5a4-45a8-ac3f-82889873a0d4",
   "metadata": {},
   "outputs": [],
   "source": []
  }
 ],
 "metadata": {
  "kernelspec": {
   "display_name": "Python 3 (ipykernel)",
   "language": "python",
   "name": "python3"
  },
  "language_info": {
   "codemirror_mode": {
    "name": "ipython",
    "version": 3
   },
   "file_extension": ".py",
   "mimetype": "text/x-python",
   "name": "python",
   "nbconvert_exporter": "python",
   "pygments_lexer": "ipython3",
   "version": "3.11.0"
  }
 },
 "nbformat": 4,
 "nbformat_minor": 5
}
